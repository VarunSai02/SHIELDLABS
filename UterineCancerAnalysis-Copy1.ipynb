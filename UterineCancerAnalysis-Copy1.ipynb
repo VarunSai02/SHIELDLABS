{
 "cells": [
  {
   "cell_type": "code",
   "execution_count": 38,
   "id": "b6fc0d33-68bb-4844-98da-205709defae3",
   "metadata": {},
   "outputs": [
    {
     "name": "stdout",
     "output_type": "stream",
     "text": [
      "Collecting imblearn\n",
      "  Downloading imblearn-0.0-py2.py3-none-any.whl.metadata (355 bytes)\n",
      "Collecting imbalanced-learn (from imblearn)\n",
      "  Downloading imbalanced_learn-0.12.2-py3-none-any.whl.metadata (8.2 kB)\n",
      "Requirement already satisfied: numpy>=1.17.3 in c:\\users\\hp\\appdata\\local\\programs\\python\\python311\\lib\\site-packages (from imbalanced-learn->imblearn) (1.26.1)\n",
      "Requirement already satisfied: scipy>=1.5.0 in c:\\users\\hp\\appdata\\local\\programs\\python\\python311\\lib\\site-packages (from imbalanced-learn->imblearn) (1.11.4)\n",
      "Requirement already satisfied: scikit-learn>=1.0.2 in c:\\users\\hp\\appdata\\local\\programs\\python\\python311\\lib\\site-packages (from imbalanced-learn->imblearn) (1.4.2)\n",
      "Requirement already satisfied: joblib>=1.1.1 in c:\\users\\hp\\appdata\\local\\programs\\python\\python311\\lib\\site-packages (from imbalanced-learn->imblearn) (1.3.2)\n",
      "Requirement already satisfied: threadpoolctl>=2.0.0 in c:\\users\\hp\\appdata\\local\\programs\\python\\python311\\lib\\site-packages (from imbalanced-learn->imblearn) (3.2.0)\n",
      "Downloading imblearn-0.0-py2.py3-none-any.whl (1.9 kB)\n",
      "Downloading imbalanced_learn-0.12.2-py3-none-any.whl (257 kB)\n",
      "   ---------------------------------------- 0.0/258.0 kB ? eta -:--:--\n",
      "   - -------------------------------------- 10.2/258.0 kB ? eta -:--:--\n",
      "   --- ----------------------------------- 20.5/258.0 kB 320.0 kB/s eta 0:00:01\n",
      "   ---------- ---------------------------- 71.7/258.0 kB 558.5 kB/s eta 0:00:01\n",
      "   ---------------------------------------  256.0/258.0 kB 1.7 MB/s eta 0:00:01\n",
      "   ---------------------------------------- 258.0/258.0 kB 1.4 MB/s eta 0:00:00\n",
      "Installing collected packages: imbalanced-learn, imblearn\n",
      "Successfully installed imbalanced-learn-0.12.2 imblearn-0.0\n",
      "Note: you may need to restart the kernel to use updated packages.\n"
     ]
    }
   ],
   "source": [
    "pip install imblearn\n"
   ]
  },
  {
   "cell_type": "code",
   "execution_count": 1,
   "id": "1193e20e-763e-4c42-bad9-8f768262faea",
   "metadata": {},
   "outputs": [
    {
     "name": "stdout",
     "output_type": "stream",
     "text": [
      "WARNING:tensorflow:From C:\\Users\\Hp\\AppData\\Local\\Programs\\Python\\Python311\\Lib\\site-packages\\keras\\src\\losses.py:2976: The name tf.losses.sparse_softmax_cross_entropy is deprecated. Please use tf.compat.v1.losses.sparse_softmax_cross_entropy instead.\n",
      "\n"
     ]
    }
   ],
   "source": [
    "from __future__ import absolute_import, division, print_function, unicode_literals\n",
    "\n",
    "import numpy as np\n",
    "import pandas as pd\n",
    "import seaborn as sns\n",
    "import matplotlib.pyplot as plt\n",
    "from six.moves import urllib\n",
    "from sklearn.model_selection import train_test_split\n",
    "from sklearn.tree import DecisionTreeClassifier\n",
    "from sklearn.ensemble import RandomForestClassifier, GradientBoostingClassifier, HistGradientBoostingClassifier\n",
    "from sklearn.svm import SVC\n",
    "from sklearn.naive_bayes import MultinomialNB\n",
    "from sklearn.neighbors import KNeighborsClassifier\n",
    "from sklearn.ensemble import VotingClassifier\n",
    "from sklearn.metrics import accuracy_score, classification_report\n",
    "\n",
    "import tensorflow.compat.v2.feature_column as fc\n",
    "\n",
    "import tensorflow as tf\n"
   ]
  },
  {
   "cell_type": "code",
   "execution_count": 2,
   "id": "b904bd2b-94ee-4c49-a698-dd5cc6ae0def",
   "metadata": {},
   "outputs": [
    {
     "name": "stdout",
     "output_type": "stream",
     "text": [
      "Columns with identical data: ['Sex', 'STATUS_for_status_1', 'CLINICAL_STAGE_for_status_2', 'CLINICAL_STAGE_for_status_3', 'INITIAL_PATHOLOGIC_DIAGNOSIS_METHOD_for_status_2', 'INITIAL_PATHOLOGIC_DIAGNOSIS_METHOD_for_status_3', 'ANATOMIC_SITE_for_status_1', 'TUMOR_STATUS_for_status_1', 'PRIMARY_THERAPY_OUTCOME_SUCCESS_for_status_1', 'VITAL_STATUS_for_status_1', 'TREATMENT_START_DATE_for_treatment_9', 'TREATMENT_START_DATE_for_treatment_10', 'TREATMENT_START_DATE_for_treatment_11', 'TREATMENT_START_DATE_for_treatment_12', 'TREATMENT_STOP_DATE_for_treatment_9', 'TREATMENT_STOP_DATE_for_treatment_10', 'TREATMENT_STOP_DATE_for_treatment_11', 'TREATMENT_STOP_DATE_for_treatment_12', 'TREATMENT_for_treatment_9', 'TREATMENT_for_treatment_10', 'TREATMENT_for_treatment_11', 'TREATMENT_for_treatment_12', 'AGENT_for_treatment_9', 'AGENT_for_treatment_10', 'AGENT_for_treatment_11', 'AGENT_for_treatment_12', 'NUMBER_OF_CYCLES_for_treatment_4', 'NUMBER_OF_CYCLES_for_treatment_5', 'NUMBER_OF_CYCLES_for_treatment_6', 'NUMBER_OF_CYCLES_for_treatment_7', 'NUMBER_OF_CYCLES_for_treatment_8', 'NUMBER_OF_CYCLES_for_treatment_9', 'NUMBER_OF_CYCLES_for_treatment_10', 'NUMBER_OF_CYCLES_for_treatment_11', 'NUMBER_OF_CYCLES_for_treatment_12', 'DOSAGE_for_treatment_4', 'DOSAGE_for_treatment_5', 'DOSAGE_for_treatment_6', 'DOSAGE_for_treatment_7', 'DOSAGE_for_treatment_8', 'DOSAGE_for_treatment_9', 'DOSAGE_for_treatment_10', 'DOSAGE_for_treatment_11', 'DOSAGE_for_treatment_12', 'DOSAGE_UNIT_for_treatment_4', 'DOSAGE_UNIT_for_treatment_5', 'DOSAGE_UNIT_for_treatment_6', 'DOSAGE_UNIT_for_treatment_7', 'DOSAGE_UNIT_for_treatment_8', 'DOSAGE_UNIT_for_treatment_9', 'DOSAGE_UNIT_for_treatment_10', 'DOSAGE_UNIT_for_treatment_11', 'DOSAGE_UNIT_for_treatment_12', 'REGIMEN_NUMBER_for_treatment_4', 'REGIMEN_NUMBER_for_treatment_5', 'REGIMEN_NUMBER_for_treatment_6', 'REGIMEN_NUMBER_for_treatment_7', 'REGIMEN_NUMBER_for_treatment_8', 'REGIMEN_NUMBER_for_treatment_9', 'REGIMEN_NUMBER_for_treatment_10', 'REGIMEN_NUMBER_for_treatment_11', 'REGIMEN_NUMBER_for_treatment_12', 'REGIMENT_INDICATION_for_treatment_6', 'REGIMENT_INDICATION_for_treatment_7', 'REGIMENT_INDICATION_for_treatment_8', 'REGIMENT_INDICATION_for_treatment_9', 'REGIMENT_INDICATION_for_treatment_10', 'REGIMENT_INDICATION_for_treatment_11', 'REGIMENT_INDICATION_for_treatment_12', 'RESPONSE_MEASUREMENT_for_treatment_6', 'RESPONSE_MEASUREMENT_for_treatment_9', 'RESPONSE_MEASUREMENT_for_treatment_10', 'RESPONSE_MEASUREMENT_for_treatment_11', 'RESPONSE_MEASUREMENT_for_treatment_12', 'DRUG_CLASSIFICATION_for_treatment_1', 'DRUG_CLASSIFICATION_for_treatment_2', 'DRUG_CLASSIFICATION_for_treatment_3', 'DRUG_CLASSIFICATION_for_treatment_4', 'DRUG_CLASSIFICATION_for_treatment_5', 'DRUG_CLASSIFICATION_for_treatment_6', 'DRUG_CLASSIFICATION_for_treatment_7', 'DRUG_CLASSIFICATION_for_treatment_8', 'DRUG_CLASSIFICATION_for_treatment_9', 'DRUG_CLASSIFICATION_for_treatment_10', 'DRUG_CLASSIFICATION_for_treatment_11', 'DRUG_CLASSIFICATION_for_treatment_12', 'ADMINISTRATION_for_treatment_4', 'ADMINISTRATION_for_treatment_5', 'ADMINISTRATION_for_treatment_6', 'ADMINISTRATION_for_treatment_7', 'ADMINISTRATION_for_treatment_8', 'ADMINISTRATION_for_treatment_9', 'ADMINISTRATION_for_treatment_10', 'ADMINISTRATION_for_treatment_11', 'ADMINISTRATION_for_treatment_12', 'THERAPY_ONGOING_for_treatment_9', 'THERAPY_ONGOING_for_treatment_10', 'THERAPY_ONGOING_for_treatment_11', 'THERAPY_ONGOING_for_treatment_12', 'TOTAL_DOSAGE_for_treatment_3', 'TOTAL_DOSAGE_for_treatment_4', 'TOTAL_DOSAGE_for_treatment_5', 'TOTAL_DOSAGE_for_treatment_6', 'TOTAL_DOSAGE_for_treatment_7', 'TOTAL_DOSAGE_for_treatment_8', 'TOTAL_DOSAGE_for_treatment_9', 'TOTAL_DOSAGE_for_treatment_10', 'TOTAL_DOSAGE_for_treatment_11', 'TOTAL_DOSAGE_for_treatment_12', 'TOTAL_DOSAGE_UNIT_for_treatment_3', 'TOTAL_DOSAGE_UNIT_for_treatment_4', 'TOTAL_DOSAGE_UNIT_for_treatment_5', 'TOTAL_DOSAGE_UNIT_for_treatment_6', 'TOTAL_DOSAGE_UNIT_for_treatment_7', 'TOTAL_DOSAGE_UNIT_for_treatment_8', 'TOTAL_DOSAGE_UNIT_for_treatment_9', 'TOTAL_DOSAGE_UNIT_for_treatment_10', 'TOTAL_DOSAGE_UNIT_for_treatment_11', 'TOTAL_DOSAGE_UNIT_for_treatment_12', 'TX_ON_CLINICAL_TRIAL_for_treatment_9', 'TX_ON_CLINICAL_TRIAL_for_treatment_10', 'TX_ON_CLINICAL_TRIAL_for_treatment_11', 'TX_ON_CLINICAL_TRIAL_for_treatment_12', 'ANATOMIC_site_for_treatment_6', 'ANATOMIC_site_for_treatment_7', 'ANATOMIC_site_for_treatment_8', 'ANATOMIC_site_for_treatment_9', 'ANATOMIC_site_for_treatment_10', 'ANATOMIC_site_for_treatment_11', 'ANATOMIC_site_for_treatment_12', 'COURSE_NUMBER_for_treatment_6', 'COURSE_NUMBER_for_treatment_7', 'COURSE_NUMBER_for_treatment_8', 'COURSE_NUMBER_for_treatment_9', 'COURSE_NUMBER_for_treatment_10', 'COURSE_NUMBER_for_treatment_11', 'COURSE_NUMBER_for_treatment_12', 'NUMBER_OF_FRACTIONS_for_treatment_4', 'NUMBER_OF_FRACTIONS_for_treatment_5', 'NUMBER_OF_FRACTIONS_for_treatment_6', 'NUMBER_OF_FRACTIONS_for_treatment_7', 'NUMBER_OF_FRACTIONS_for_treatment_8', 'NUMBER_OF_FRACTIONS_for_treatment_9', 'NUMBER_OF_FRACTIONS_for_treatment_10', 'NUMBER_OF_FRACTIONS_for_treatment_11', 'NUMBER_OF_FRACTIONS_for_treatment_12', 'RADIATION_DOSAGE_for_treatment_6', 'RADIATION_DOSAGE_for_treatment_7', 'RADIATION_DOSAGE_for_treatment_8', 'RADIATION_DOSAGE_for_treatment_9', 'RADIATION_DOSAGE_for_treatment_10', 'RADIATION_DOSAGE_for_treatment_11', 'RADIATION_DOSAGE_for_treatment_12', 'RADIATION_TREATMENT_ONGOING_for_treatment_6', 'RADIATION_TREATMENT_ONGOING_for_treatment_7', 'RADIATION_TREATMENT_ONGOING_for_treatment_8', 'RADIATION_TREATMENT_ONGOING_for_treatment_9', 'RADIATION_TREATMENT_ONGOING_for_treatment_10', 'RADIATION_TREATMENT_ONGOING_for_treatment_11', 'RADIATION_TREATMENT_ONGOING_for_treatment_12', 'RADIATION_TYPE_for_treatment_6', 'RADIATION_TYPE_for_treatment_7', 'RADIATION_TYPE_for_treatment_8', 'RADIATION_TYPE_for_treatment_9', 'RADIATION_TYPE_for_treatment_10', 'RADIATION_TYPE_for_treatment_11', 'RADIATION_TYPE_for_treatment_12', 'RADIATION_UNITS_for_treatment_6', 'RADIATION_UNITS_for_treatment_7', 'RADIATION_UNITS_for_treatment_8', 'RADIATION_UNITS_for_treatment_9', 'RADIATION_UNITS_for_treatment_10', 'RADIATION_UNITS_for_treatment_11', 'RADIATION_UNITS_for_treatment_12']\n"
     ]
    }
   ],
   "source": [
    "df = pd.read_excel('confirmed_recurrence.xlsx')\n",
    "\n",
    "columns_to_drop = ['Sample ID', 'Other Patient ID', 'Form completion date', 'Tissue Source Site',\n",
    "                   'International Classification of Diseases for Oncology, Third Edition ICD-O-3 Histology Code',\n",
    "                   'International Classification of Diseases for Oncology, Third Edition ICD-O-3 Site Code',\n",
    "                   'American Joint Committee on Cancer Publication Version Type', 'ICD 10 Classification',\n",
    "                   'ICD-O-3 Histology Code', 'ICD-O-3 Site Code', 'AJCC Publication Version Type']\n",
    "\n",
    "# Check if the columns exist in the DataFrame before dropping\n",
    "columns_to_drop_existing = [col for col in columns_to_drop if col in df.columns]\n",
    "\n",
    "if columns_to_drop_existing:\n",
    "    # Drop the specified columns\n",
    "    df.drop(columns=columns_to_drop_existing, inplace=True)\n",
    "    \n",
    "    df.to_excel(output_excel_file, index=False)\n",
    "\n",
    "identical_columns = [col for col in df.columns if df[col].nunique() == 1]\n",
    "\n",
    "# Print the names of columns with identical data\n",
    "print(\"Columns with identical data:\", identical_columns)\n",
    "\n",
    "# Drop these columns from the DataFrame\n",
    "df = df.drop(columns=identical_columns)\n"
   ]
  },
  {
   "cell_type": "code",
   "execution_count": 3,
   "id": "dc7b501a-9850-447a-ada5-72d10da88404",
   "metadata": {},
   "outputs": [
    {
     "data": {
      "text/html": [
       "<div>\n",
       "<style scoped>\n",
       "    .dataframe tbody tr th:only-of-type {\n",
       "        vertical-align: middle;\n",
       "    }\n",
       "\n",
       "    .dataframe tbody tr th {\n",
       "        vertical-align: top;\n",
       "    }\n",
       "\n",
       "    .dataframe thead th {\n",
       "        text-align: right;\n",
       "    }\n",
       "</style>\n",
       "<table border=\"1\" class=\"dataframe\">\n",
       "  <thead>\n",
       "    <tr style=\"text-align: right;\">\n",
       "      <th></th>\n",
       "      <th>Diagnosis Age</th>\n",
       "      <th>Overall Survival (Months)</th>\n",
       "      <th>Months of disease-specific survival</th>\n",
       "      <th>Progress Free Survival (Months)</th>\n",
       "      <th>ANEUPLOIDY_SCORE</th>\n",
       "      <th>MSI_SCORE_MANTIS</th>\n",
       "      <th>MSI_SENSOR_SCORE</th>\n",
       "      <th>TMB_NONSYNONYMOUS</th>\n",
       "      <th>TUMOR_WEIGHT</th>\n",
       "      <th>TREATMENT_START_DATE_for_treatment_1</th>\n",
       "      <th>...</th>\n",
       "      <th>COURSE_NUMBER_for_treatment_4</th>\n",
       "      <th>COURSE_NUMBER_for_treatment_5</th>\n",
       "      <th>NUMBER_OF_FRACTIONS_for_treatment_1</th>\n",
       "      <th>NUMBER_OF_FRACTIONS_for_treatment_2</th>\n",
       "      <th>NUMBER_OF_FRACTIONS_for_treatment_3</th>\n",
       "      <th>RADIATION_DOSAGE_for_treatment_1</th>\n",
       "      <th>RADIATION_DOSAGE_for_treatment_2</th>\n",
       "      <th>RADIATION_DOSAGE_for_treatment_3</th>\n",
       "      <th>RADIATION_DOSAGE_for_treatment_4</th>\n",
       "      <th>RADIATION_DOSAGE_for_treatment_5</th>\n",
       "    </tr>\n",
       "  </thead>\n",
       "  <tbody>\n",
       "    <tr>\n",
       "      <th>count</th>\n",
       "      <td>25.000000</td>\n",
       "      <td>25.000000</td>\n",
       "      <td>25.000000</td>\n",
       "      <td>25.000000</td>\n",
       "      <td>25.000000</td>\n",
       "      <td>25.000000</td>\n",
       "      <td>25.000000</td>\n",
       "      <td>25.000000</td>\n",
       "      <td>25.000000</td>\n",
       "      <td>25.000000</td>\n",
       "      <td>...</td>\n",
       "      <td>25.00</td>\n",
       "      <td>25.00</td>\n",
       "      <td>25.000000</td>\n",
       "      <td>25.000000</td>\n",
       "      <td>25.00000</td>\n",
       "      <td>25.000000</td>\n",
       "      <td>25.000000</td>\n",
       "      <td>25.000000</td>\n",
       "      <td>25.000000</td>\n",
       "      <td>25.000000</td>\n",
       "    </tr>\n",
       "    <tr>\n",
       "      <th>mean</th>\n",
       "      <td>64.280000</td>\n",
       "      <td>37.068744</td>\n",
       "      <td>37.068744</td>\n",
       "      <td>24.229871</td>\n",
       "      <td>11.800000</td>\n",
       "      <td>0.390548</td>\n",
       "      <td>3.576800</td>\n",
       "      <td>10.845333</td>\n",
       "      <td>292.960000</td>\n",
       "      <td>230.560000</td>\n",
       "      <td>...</td>\n",
       "      <td>0.04</td>\n",
       "      <td>0.04</td>\n",
       "      <td>1.360000</td>\n",
       "      <td>1.080000</td>\n",
       "      <td>2.56000</td>\n",
       "      <td>508.000000</td>\n",
       "      <td>248.000000</td>\n",
       "      <td>864.792000</td>\n",
       "      <td>417.600000</td>\n",
       "      <td>360.000000</td>\n",
       "    </tr>\n",
       "    <tr>\n",
       "      <th>std</th>\n",
       "      <td>9.048573</td>\n",
       "      <td>20.750778</td>\n",
       "      <td>20.750778</td>\n",
       "      <td>18.175336</td>\n",
       "      <td>8.154753</td>\n",
       "      <td>0.244498</td>\n",
       "      <td>8.249204</td>\n",
       "      <td>25.207386</td>\n",
       "      <td>372.006102</td>\n",
       "      <td>502.024408</td>\n",
       "      <td>...</td>\n",
       "      <td>0.20</td>\n",
       "      <td>0.20</td>\n",
       "      <td>5.081666</td>\n",
       "      <td>4.999333</td>\n",
       "      <td>7.11852</td>\n",
       "      <td>1508.840615</td>\n",
       "      <td>1018.626526</td>\n",
       "      <td>1853.642382</td>\n",
       "      <td>1460.220531</td>\n",
       "      <td>1278.997003</td>\n",
       "    </tr>\n",
       "    <tr>\n",
       "      <th>min</th>\n",
       "      <td>35.000000</td>\n",
       "      <td>14.038202</td>\n",
       "      <td>14.038202</td>\n",
       "      <td>4.306802</td>\n",
       "      <td>0.000000</td>\n",
       "      <td>0.278400</td>\n",
       "      <td>0.000000</td>\n",
       "      <td>0.000000</td>\n",
       "      <td>19.000000</td>\n",
       "      <td>0.000000</td>\n",
       "      <td>...</td>\n",
       "      <td>0.00</td>\n",
       "      <td>0.00</td>\n",
       "      <td>0.000000</td>\n",
       "      <td>0.000000</td>\n",
       "      <td>0.00000</td>\n",
       "      <td>0.000000</td>\n",
       "      <td>0.000000</td>\n",
       "      <td>0.000000</td>\n",
       "      <td>0.000000</td>\n",
       "      <td>0.000000</td>\n",
       "    </tr>\n",
       "    <tr>\n",
       "      <th>25%</th>\n",
       "      <td>60.000000</td>\n",
       "      <td>21.895650</td>\n",
       "      <td>21.895650</td>\n",
       "      <td>12.624519</td>\n",
       "      <td>5.000000</td>\n",
       "      <td>0.292200</td>\n",
       "      <td>0.220000</td>\n",
       "      <td>1.366667</td>\n",
       "      <td>128.000000</td>\n",
       "      <td>59.000000</td>\n",
       "      <td>...</td>\n",
       "      <td>0.00</td>\n",
       "      <td>0.00</td>\n",
       "      <td>0.000000</td>\n",
       "      <td>0.000000</td>\n",
       "      <td>0.00000</td>\n",
       "      <td>0.000000</td>\n",
       "      <td>0.000000</td>\n",
       "      <td>0.000000</td>\n",
       "      <td>0.000000</td>\n",
       "      <td>0.000000</td>\n",
       "    </tr>\n",
       "    <tr>\n",
       "      <th>50%</th>\n",
       "      <td>65.000000</td>\n",
       "      <td>32.711970</td>\n",
       "      <td>32.711970</td>\n",
       "      <td>20.153204</td>\n",
       "      <td>11.000000</td>\n",
       "      <td>0.302100</td>\n",
       "      <td>0.430000</td>\n",
       "      <td>1.766667</td>\n",
       "      <td>177.000000</td>\n",
       "      <td>75.000000</td>\n",
       "      <td>...</td>\n",
       "      <td>0.00</td>\n",
       "      <td>0.00</td>\n",
       "      <td>0.000000</td>\n",
       "      <td>0.000000</td>\n",
       "      <td>0.00000</td>\n",
       "      <td>0.000000</td>\n",
       "      <td>0.000000</td>\n",
       "      <td>0.000000</td>\n",
       "      <td>0.000000</td>\n",
       "      <td>0.000000</td>\n",
       "    </tr>\n",
       "    <tr>\n",
       "      <th>75%</th>\n",
       "      <td>69.000000</td>\n",
       "      <td>39.517375</td>\n",
       "      <td>39.517375</td>\n",
       "      <td>29.457211</td>\n",
       "      <td>18.000000</td>\n",
       "      <td>0.323400</td>\n",
       "      <td>0.730000</td>\n",
       "      <td>3.600000</td>\n",
       "      <td>250.000000</td>\n",
       "      <td>92.000000</td>\n",
       "      <td>...</td>\n",
       "      <td>0.00</td>\n",
       "      <td>0.00</td>\n",
       "      <td>0.000000</td>\n",
       "      <td>0.000000</td>\n",
       "      <td>0.00000</td>\n",
       "      <td>0.000000</td>\n",
       "      <td>0.000000</td>\n",
       "      <td>0.000000</td>\n",
       "      <td>0.000000</td>\n",
       "      <td>0.000000</td>\n",
       "    </tr>\n",
       "    <tr>\n",
       "      <th>max</th>\n",
       "      <td>82.000000</td>\n",
       "      <td>102.311208</td>\n",
       "      <td>102.311208</td>\n",
       "      <td>88.963409</td>\n",
       "      <td>26.000000</td>\n",
       "      <td>1.115200</td>\n",
       "      <td>26.900000</td>\n",
       "      <td>113.900000</td>\n",
       "      <td>1800.000000</td>\n",
       "      <td>2419.000000</td>\n",
       "      <td>...</td>\n",
       "      <td>1.00</td>\n",
       "      <td>1.00</td>\n",
       "      <td>25.000000</td>\n",
       "      <td>25.000000</td>\n",
       "      <td>25.00000</td>\n",
       "      <td>6000.000000</td>\n",
       "      <td>5000.000000</td>\n",
       "      <td>6000.000000</td>\n",
       "      <td>5940.000000</td>\n",
       "      <td>5500.000000</td>\n",
       "    </tr>\n",
       "  </tbody>\n",
       "</table>\n",
       "<p>8 rows × 47 columns</p>\n",
       "</div>"
      ],
      "text/plain": [
       "       Diagnosis Age  Overall Survival (Months)  \\\n",
       "count      25.000000                  25.000000   \n",
       "mean       64.280000                  37.068744   \n",
       "std         9.048573                  20.750778   \n",
       "min        35.000000                  14.038202   \n",
       "25%        60.000000                  21.895650   \n",
       "50%        65.000000                  32.711970   \n",
       "75%        69.000000                  39.517375   \n",
       "max        82.000000                 102.311208   \n",
       "\n",
       "       Months of disease-specific survival  Progress Free Survival (Months)  \\\n",
       "count                            25.000000                        25.000000   \n",
       "mean                             37.068744                        24.229871   \n",
       "std                              20.750778                        18.175336   \n",
       "min                              14.038202                         4.306802   \n",
       "25%                              21.895650                        12.624519   \n",
       "50%                              32.711970                        20.153204   \n",
       "75%                              39.517375                        29.457211   \n",
       "max                             102.311208                        88.963409   \n",
       "\n",
       "       ANEUPLOIDY_SCORE  MSI_SCORE_MANTIS  MSI_SENSOR_SCORE  \\\n",
       "count         25.000000         25.000000         25.000000   \n",
       "mean          11.800000          0.390548          3.576800   \n",
       "std            8.154753          0.244498          8.249204   \n",
       "min            0.000000          0.278400          0.000000   \n",
       "25%            5.000000          0.292200          0.220000   \n",
       "50%           11.000000          0.302100          0.430000   \n",
       "75%           18.000000          0.323400          0.730000   \n",
       "max           26.000000          1.115200         26.900000   \n",
       "\n",
       "       TMB_NONSYNONYMOUS  TUMOR_WEIGHT  TREATMENT_START_DATE_for_treatment_1  \\\n",
       "count          25.000000     25.000000                             25.000000   \n",
       "mean           10.845333    292.960000                            230.560000   \n",
       "std            25.207386    372.006102                            502.024408   \n",
       "min             0.000000     19.000000                              0.000000   \n",
       "25%             1.366667    128.000000                             59.000000   \n",
       "50%             1.766667    177.000000                             75.000000   \n",
       "75%             3.600000    250.000000                             92.000000   \n",
       "max           113.900000   1800.000000                           2419.000000   \n",
       "\n",
       "       ...  COURSE_NUMBER_for_treatment_4  COURSE_NUMBER_for_treatment_5  \\\n",
       "count  ...                          25.00                          25.00   \n",
       "mean   ...                           0.04                           0.04   \n",
       "std    ...                           0.20                           0.20   \n",
       "min    ...                           0.00                           0.00   \n",
       "25%    ...                           0.00                           0.00   \n",
       "50%    ...                           0.00                           0.00   \n",
       "75%    ...                           0.00                           0.00   \n",
       "max    ...                           1.00                           1.00   \n",
       "\n",
       "       NUMBER_OF_FRACTIONS_for_treatment_1  \\\n",
       "count                            25.000000   \n",
       "mean                              1.360000   \n",
       "std                               5.081666   \n",
       "min                               0.000000   \n",
       "25%                               0.000000   \n",
       "50%                               0.000000   \n",
       "75%                               0.000000   \n",
       "max                              25.000000   \n",
       "\n",
       "       NUMBER_OF_FRACTIONS_for_treatment_2  \\\n",
       "count                            25.000000   \n",
       "mean                              1.080000   \n",
       "std                               4.999333   \n",
       "min                               0.000000   \n",
       "25%                               0.000000   \n",
       "50%                               0.000000   \n",
       "75%                               0.000000   \n",
       "max                              25.000000   \n",
       "\n",
       "       NUMBER_OF_FRACTIONS_for_treatment_3  RADIATION_DOSAGE_for_treatment_1  \\\n",
       "count                             25.00000                         25.000000   \n",
       "mean                               2.56000                        508.000000   \n",
       "std                                7.11852                       1508.840615   \n",
       "min                                0.00000                          0.000000   \n",
       "25%                                0.00000                          0.000000   \n",
       "50%                                0.00000                          0.000000   \n",
       "75%                                0.00000                          0.000000   \n",
       "max                               25.00000                       6000.000000   \n",
       "\n",
       "       RADIATION_DOSAGE_for_treatment_2  RADIATION_DOSAGE_for_treatment_3  \\\n",
       "count                         25.000000                         25.000000   \n",
       "mean                         248.000000                        864.792000   \n",
       "std                         1018.626526                       1853.642382   \n",
       "min                            0.000000                          0.000000   \n",
       "25%                            0.000000                          0.000000   \n",
       "50%                            0.000000                          0.000000   \n",
       "75%                            0.000000                          0.000000   \n",
       "max                         5000.000000                       6000.000000   \n",
       "\n",
       "       RADIATION_DOSAGE_for_treatment_4  RADIATION_DOSAGE_for_treatment_5  \n",
       "count                         25.000000                         25.000000  \n",
       "mean                         417.600000                        360.000000  \n",
       "std                         1460.220531                       1278.997003  \n",
       "min                            0.000000                          0.000000  \n",
       "25%                            0.000000                          0.000000  \n",
       "50%                            0.000000                          0.000000  \n",
       "75%                            0.000000                          0.000000  \n",
       "max                         5940.000000                       5500.000000  \n",
       "\n",
       "[8 rows x 47 columns]"
      ]
     },
     "execution_count": 3,
     "metadata": {},
     "output_type": "execute_result"
    }
   ],
   "source": [
    "data = df\n",
    "data.describe()"
   ]
  },
  {
   "cell_type": "code",
   "execution_count": 4,
   "id": "a6bc876d-7388-4118-90f6-1578f791b8f6",
   "metadata": {},
   "outputs": [
    {
     "data": {
      "image/png": "[encoded data removed]",
      "text/plain": [
       "<Figure size 640x480 with 1 Axes>"
      ]
     },
     "metadata": {},
     "output_type": "display_data"
    }
   ],
   "source": [
    "import matplotlib.pyplot as plt\n",
    "\n",
    "# Histogram for Diagnosis Age\n",
    "plt.hist(df['Diagnosis Age'], bins=20, color='skyblue', edgecolor='black')\n",
    "plt.xlabel('Diagnosis Age')\n",
    "plt.ylabel('Frequency')\n",
    "plt.title('Histogram of Diagnosis Age')\n",
    "plt.show()\n"
   ]
  },
  {
   "cell_type": "code",
   "execution_count": 5,
   "id": "4f734ee8-69a6-4ca7-8014-b71285e44cfc",
   "metadata": {},
   "outputs": [
    {
     "data": {
      "image/png": "[encoded data removed]",
      "text/plain": [
       "<Figure size 800x600 with 1 Axes>"
      ]
     },
     "metadata": {},
     "output_type": "display_data"
    }
   ],
   "source": [
    "import seaborn as sns\n",
    "import matplotlib.pyplot as plt\n",
    "\n",
    "# Box plot for Diagnosis Age by Disease Free Status\n",
    "plt.figure(figsize=(8, 6))\n",
    "sns.boxplot(x='Disease Free Status', y='Diagnosis Age', data=df)\n",
    "plt.xlabel('Disease Free Status')\n",
    "plt.ylabel('Diagnosis Age')\n",
    "plt.title('Diagnosis Age by Disease Free Status')\n",
    "plt.show()\n"
   ]
  },
  {
   "cell_type": "code",
   "execution_count": 8,
   "id": "fb47aaaf-a5f5-41c8-ae42-e3a264250756",
   "metadata": {},
   "outputs": [
    {
     "name": "stdout",
     "output_type": "stream",
     "text": [
      "Columns with missing values:\n",
      "\n",
      "Number of missing values in each column:\n",
      "PATIENT_ID                                                           0\n",
      "Diagnosis Age                                                        0\n",
      "Last Communication Contact from Initial Pathologic Diagnosis Date    0\n",
      "New Neoplasm Event Post Initial Therapy Indicator                    0\n",
      "Person Neoplasm Cancer Status                                        0\n",
      "                                                                    ..\n",
      "RADIATION_UNITS_for_treatment_1                                      0\n",
      "RADIATION_UNITS_for_treatment_2                                      0\n",
      "RADIATION_UNITS_for_treatment_3                                      0\n",
      "RADIATION_UNITS_for_treatment_4                                      0\n",
      "RADIATION_UNITS_for_treatment_5                                      0\n",
      "Length: 154, dtype: int64\n"
     ]
    }
   ],
   "source": [
    "columns_with_missing_values = data.columns[data.isnull().any()]\n",
    "\n",
    "# Print the names of columns with missing values\n",
    "print(\"Columns with missing values:\")\n",
    "for col in columns_with_missing_values:\n",
    "    print(col)\n",
    "\n",
    "# Optionally, you can also print the number of missing values in each column\n",
    "print(\"\\nNumber of missing values in each column:\")\n",
    "print(data.isnull().sum())"
   ]
  },
  {
   "cell_type": "code",
   "execution_count": 9,
   "id": "3569495b-70fa-47c5-b535-0a8e0f4820aa",
   "metadata": {},
   "outputs": [],
   "source": [
    "data_xgboost = data.copy()"
   ]
  },
  {
   "cell_type": "code",
   "execution_count": 13,
   "id": "3388368e-557e-4d7e-b2dc-3e38ea2c2ad2",
   "metadata": {},
   "outputs": [
    {
     "name": "stdout",
     "output_type": "stream",
     "text": [
      "25\n",
      "154\n",
      "25\n",
      "154\n"
     ]
    },
    {
     "ename": "KeyError",
     "evalue": "\"['Sample Id'] not found in axis\"",
     "output_type": "error",
     "traceback": [
      "\u001b[1;31m---------------------------------------------------------------------------\u001b[0m",
      "\u001b[1;31mKeyError\u001b[0m                                  Traceback (most recent call last)",
      "Cell \u001b[1;32mIn[13], line 11\u001b[0m\n\u001b[0;32m      7\u001b[0m data_shuffled \u001b[38;5;241m=\u001b[39m data_cleaned\u001b[38;5;241m.\u001b[39msample(frac\u001b[38;5;241m=\u001b[39m\u001b[38;5;241m1\u001b[39m, random_state\u001b[38;5;241m=\u001b[39m\u001b[38;5;241m42\u001b[39m)\n\u001b[0;32m     10\u001b[0m \u001b[38;5;66;03m# Features (X) are all columns except 'ID' and 'Stage'\u001b[39;00m\n\u001b[1;32m---> 11\u001b[0m X \u001b[38;5;241m=\u001b[39m \u001b[43mdata_shuffled\u001b[49m\u001b[38;5;241;43m.\u001b[39;49m\u001b[43mdrop\u001b[49m\u001b[43m(\u001b[49m\u001b[43m[\u001b[49m\u001b[38;5;124;43m'\u001b[39;49m\u001b[38;5;124;43mSample Id\u001b[39;49m\u001b[38;5;124;43m'\u001b[39;49m\u001b[43m,\u001b[49m\u001b[43m \u001b[49m\u001b[38;5;124;43m'\u001b[39;49m\u001b[38;5;124;43mDisease Free Status\u001b[39;49m\u001b[38;5;124;43m'\u001b[39;49m\u001b[43m]\u001b[49m\u001b[43m,\u001b[49m\u001b[43m \u001b[49m\u001b[43maxis\u001b[49m\u001b[38;5;241;43m=\u001b[39;49m\u001b[38;5;241;43m1\u001b[39;49m\u001b[43m)\u001b[49m\n\u001b[0;32m     13\u001b[0m \u001b[38;5;66;03m# Target variable (y) is 'Stage'\u001b[39;00m\n\u001b[0;32m     14\u001b[0m y \u001b[38;5;241m=\u001b[39m data_shuffled[\u001b[38;5;124m'\u001b[39m\u001b[38;5;124mDisease Free Status\u001b[39m\u001b[38;5;124m'\u001b[39m]\n",
      "File \u001b[1;32m~\\AppData\\Local\\Programs\\Python\\Python311\\Lib\\site-packages\\pandas\\core\\frame.py:5344\u001b[0m, in \u001b[0;36mDataFrame.drop\u001b[1;34m(self, labels, axis, index, columns, level, inplace, errors)\u001b[0m\n\u001b[0;32m   5196\u001b[0m \u001b[38;5;28;01mdef\u001b[39;00m \u001b[38;5;21mdrop\u001b[39m(\n\u001b[0;32m   5197\u001b[0m     \u001b[38;5;28mself\u001b[39m,\n\u001b[0;32m   5198\u001b[0m     labels: IndexLabel \u001b[38;5;241m|\u001b[39m \u001b[38;5;28;01mNone\u001b[39;00m \u001b[38;5;241m=\u001b[39m \u001b[38;5;28;01mNone\u001b[39;00m,\n\u001b[1;32m   (...)\u001b[0m\n\u001b[0;32m   5205\u001b[0m     errors: IgnoreRaise \u001b[38;5;241m=\u001b[39m \u001b[38;5;124m\"\u001b[39m\u001b[38;5;124mraise\u001b[39m\u001b[38;5;124m\"\u001b[39m,\n\u001b[0;32m   5206\u001b[0m ) \u001b[38;5;241m-\u001b[39m\u001b[38;5;241m>\u001b[39m DataFrame \u001b[38;5;241m|\u001b[39m \u001b[38;5;28;01mNone\u001b[39;00m:\n\u001b[0;32m   5207\u001b[0m \u001b[38;5;250m    \u001b[39m\u001b[38;5;124;03m\"\"\"\u001b[39;00m\n\u001b[0;32m   5208\u001b[0m \u001b[38;5;124;03m    Drop specified labels from rows or columns.\u001b[39;00m\n\u001b[0;32m   5209\u001b[0m \n\u001b[1;32m   (...)\u001b[0m\n\u001b[0;32m   5342\u001b[0m \u001b[38;5;124;03m            weight  1.0     0.8\u001b[39;00m\n\u001b[0;32m   5343\u001b[0m \u001b[38;5;124;03m    \"\"\"\u001b[39;00m\n\u001b[1;32m-> 5344\u001b[0m     \u001b[38;5;28;01mreturn\u001b[39;00m \u001b[38;5;28;43msuper\u001b[39;49m\u001b[43m(\u001b[49m\u001b[43m)\u001b[49m\u001b[38;5;241;43m.\u001b[39;49m\u001b[43mdrop\u001b[49m\u001b[43m(\u001b[49m\n\u001b[0;32m   5345\u001b[0m \u001b[43m        \u001b[49m\u001b[43mlabels\u001b[49m\u001b[38;5;241;43m=\u001b[39;49m\u001b[43mlabels\u001b[49m\u001b[43m,\u001b[49m\n\u001b[0;32m   5346\u001b[0m \u001b[43m        \u001b[49m\u001b[43maxis\u001b[49m\u001b[38;5;241;43m=\u001b[39;49m\u001b[43maxis\u001b[49m\u001b[43m,\u001b[49m\n\u001b[0;32m   5347\u001b[0m \u001b[43m        \u001b[49m\u001b[43mindex\u001b[49m\u001b[38;5;241;43m=\u001b[39;49m\u001b[43mindex\u001b[49m\u001b[43m,\u001b[49m\n\u001b[0;32m   5348\u001b[0m \u001b[43m        \u001b[49m\u001b[43mcolumns\u001b[49m\u001b[38;5;241;43m=\u001b[39;49m\u001b[43mcolumns\u001b[49m\u001b[43m,\u001b[49m\n\u001b[0;32m   5349\u001b[0m \u001b[43m        \u001b[49m\u001b[43mlevel\u001b[49m\u001b[38;5;241;43m=\u001b[39;49m\u001b[43mlevel\u001b[49m\u001b[43m,\u001b[49m\n\u001b[0;32m   5350\u001b[0m \u001b[43m        \u001b[49m\u001b[43minplace\u001b[49m\u001b[38;5;241;43m=\u001b[39;49m\u001b[43minplace\u001b[49m\u001b[43m,\u001b[49m\n\u001b[0;32m   5351\u001b[0m \u001b[43m        \u001b[49m\u001b[43merrors\u001b[49m\u001b[38;5;241;43m=\u001b[39;49m\u001b[43merrors\u001b[49m\u001b[43m,\u001b[49m\n\u001b[0;32m   5352\u001b[0m \u001b[43m    \u001b[49m\u001b[43m)\u001b[49m\n",
      "File \u001b[1;32m~\\AppData\\Local\\Programs\\Python\\Python311\\Lib\\site-packages\\pandas\\core\\generic.py:4711\u001b[0m, in \u001b[0;36mNDFrame.drop\u001b[1;34m(self, labels, axis, index, columns, level, inplace, errors)\u001b[0m\n\u001b[0;32m   4709\u001b[0m \u001b[38;5;28;01mfor\u001b[39;00m axis, labels \u001b[38;5;129;01min\u001b[39;00m axes\u001b[38;5;241m.\u001b[39mitems():\n\u001b[0;32m   4710\u001b[0m     \u001b[38;5;28;01mif\u001b[39;00m labels \u001b[38;5;129;01mis\u001b[39;00m \u001b[38;5;129;01mnot\u001b[39;00m \u001b[38;5;28;01mNone\u001b[39;00m:\n\u001b[1;32m-> 4711\u001b[0m         obj \u001b[38;5;241m=\u001b[39m \u001b[43mobj\u001b[49m\u001b[38;5;241;43m.\u001b[39;49m\u001b[43m_drop_axis\u001b[49m\u001b[43m(\u001b[49m\u001b[43mlabels\u001b[49m\u001b[43m,\u001b[49m\u001b[43m \u001b[49m\u001b[43maxis\u001b[49m\u001b[43m,\u001b[49m\u001b[43m \u001b[49m\u001b[43mlevel\u001b[49m\u001b[38;5;241;43m=\u001b[39;49m\u001b[43mlevel\u001b[49m\u001b[43m,\u001b[49m\u001b[43m \u001b[49m\u001b[43merrors\u001b[49m\u001b[38;5;241;43m=\u001b[39;49m\u001b[43merrors\u001b[49m\u001b[43m)\u001b[49m\n\u001b[0;32m   4713\u001b[0m \u001b[38;5;28;01mif\u001b[39;00m inplace:\n\u001b[0;32m   4714\u001b[0m     \u001b[38;5;28mself\u001b[39m\u001b[38;5;241m.\u001b[39m_update_inplace(obj)\n",
      "File \u001b[1;32m~\\AppData\\Local\\Programs\\Python\\Python311\\Lib\\site-packages\\pandas\\core\\generic.py:4753\u001b[0m, in \u001b[0;36mNDFrame._drop_axis\u001b[1;34m(self, labels, axis, level, errors, only_slice)\u001b[0m\n\u001b[0;32m   4751\u001b[0m         new_axis \u001b[38;5;241m=\u001b[39m axis\u001b[38;5;241m.\u001b[39mdrop(labels, level\u001b[38;5;241m=\u001b[39mlevel, errors\u001b[38;5;241m=\u001b[39merrors)\n\u001b[0;32m   4752\u001b[0m     \u001b[38;5;28;01melse\u001b[39;00m:\n\u001b[1;32m-> 4753\u001b[0m         new_axis \u001b[38;5;241m=\u001b[39m \u001b[43maxis\u001b[49m\u001b[38;5;241;43m.\u001b[39;49m\u001b[43mdrop\u001b[49m\u001b[43m(\u001b[49m\u001b[43mlabels\u001b[49m\u001b[43m,\u001b[49m\u001b[43m \u001b[49m\u001b[43merrors\u001b[49m\u001b[38;5;241;43m=\u001b[39;49m\u001b[43merrors\u001b[49m\u001b[43m)\u001b[49m\n\u001b[0;32m   4754\u001b[0m     indexer \u001b[38;5;241m=\u001b[39m axis\u001b[38;5;241m.\u001b[39mget_indexer(new_axis)\n\u001b[0;32m   4756\u001b[0m \u001b[38;5;66;03m# Case for non-unique axis\u001b[39;00m\n\u001b[0;32m   4757\u001b[0m \u001b[38;5;28;01melse\u001b[39;00m:\n",
      "File \u001b[1;32m~\\AppData\\Local\\Programs\\Python\\Python311\\Lib\\site-packages\\pandas\\core\\indexes\\base.py:6992\u001b[0m, in \u001b[0;36mIndex.drop\u001b[1;34m(self, labels, errors)\u001b[0m\n\u001b[0;32m   6990\u001b[0m \u001b[38;5;28;01mif\u001b[39;00m mask\u001b[38;5;241m.\u001b[39many():\n\u001b[0;32m   6991\u001b[0m     \u001b[38;5;28;01mif\u001b[39;00m errors \u001b[38;5;241m!=\u001b[39m \u001b[38;5;124m\"\u001b[39m\u001b[38;5;124mignore\u001b[39m\u001b[38;5;124m\"\u001b[39m:\n\u001b[1;32m-> 6992\u001b[0m         \u001b[38;5;28;01mraise\u001b[39;00m \u001b[38;5;167;01mKeyError\u001b[39;00m(\u001b[38;5;124mf\u001b[39m\u001b[38;5;124m\"\u001b[39m\u001b[38;5;132;01m{\u001b[39;00mlabels[mask]\u001b[38;5;241m.\u001b[39mtolist()\u001b[38;5;132;01m}\u001b[39;00m\u001b[38;5;124m not found in axis\u001b[39m\u001b[38;5;124m\"\u001b[39m)\n\u001b[0;32m   6993\u001b[0m     indexer \u001b[38;5;241m=\u001b[39m indexer[\u001b[38;5;241m~\u001b[39mmask]\n\u001b[0;32m   6994\u001b[0m \u001b[38;5;28;01mreturn\u001b[39;00m \u001b[38;5;28mself\u001b[39m\u001b[38;5;241m.\u001b[39mdelete(indexer)\n",
      "\u001b[1;31mKeyError\u001b[0m: \"['Sample Id'] not found in axis\""
     ]
    }
   ],
   "source": [
    "data = data.dropna(subset=['Disease Free Status'])\n",
    "print(data.shape[0])\n",
    "print(data.shape[1])\n",
    "data_cleaned = data.dropna(axis=1, how='any')\n",
    "print(data_cleaned.shape[0])\n",
    "print(data_cleaned.shape[1])\n",
    "data_shuffled = data_cleaned.sample(frac=1, random_state=42)\n",
    "\n",
    "\n",
    "# Features (X) are all columns except 'ID' and 'Stage'\n",
    "X = data_shuffled.drop(['Sample', 'Disease Free Status'], axis=1)\n",
    "\n",
    "# Target variable (y) is 'Stage'\n",
    "y = data_shuffled['Disease Free Status']\n",
    "\n",
    "X_train, X_test, y_train, y_test = train_test_split(X, y, test_size=0.2, random_state=42)"
   ]
  },
  {
   "cell_type": "code",
   "execution_count": 14,
   "id": "b5043842-61ef-4ca7-916f-0442f5ab45aa",
   "metadata": {},
   "outputs": [],
   "source": [
    "classifier_dt = DecisionTreeClassifier(random_state=42)\n",
    "classifier_hgb = HistGradientBoostingClassifier(random_state=42)\n",
    "classifier_mnb = MultinomialNB()\n",
    "classifier_knn = KNeighborsClassifier()\n",
    "classifier_gb = GradientBoostingClassifier(random_state=42)"
   ]
  },
  {
   "cell_type": "code",
   "execution_count": 15,
   "id": "948ea5cb-6e3f-4f37-8c01-54834ba7089c",
   "metadata": {},
   "outputs": [],
   "source": [
    "# Create an ensemble model using majority voting\n",
    "ensemble_classifier = VotingClassifier(\n",
    "    estimators=[\n",
    "        ('dt', classifier_dt),\n",
    "        ('hgb', classifier_hgb),\n",
    "        ('mnb', classifier_mnb),\n",
    "        ('knn', classifier_knn),\n",
    "        ('gb', classifier_gb)\n",
    "    ],\n",
    "    voting='soft' \n",
    ")"
   ]
  },
  {
   "cell_type": "code",
   "execution_count": 16,
   "id": "304ac413-7ee9-4383-a86c-7c7a6e22b05f",
   "metadata": {},
   "outputs": [
    {
     "ename": "NameError",
     "evalue": "name 'X_train' is not defined",
     "output_type": "error",
     "traceback": [
      "\u001b[1;31m---------------------------------------------------------------------------\u001b[0m",
      "\u001b[1;31mNameError\u001b[0m                                 Traceback (most recent call last)",
      "Cell \u001b[1;32mIn[16], line 5\u001b[0m\n\u001b[0;32m      1\u001b[0m \u001b[38;5;66;03m# Train the classifiers\u001b[39;00m\n\u001b[0;32m      2\u001b[0m \u001b[38;5;28;01mfor\u001b[39;00m classifier \u001b[38;5;129;01min\u001b[39;00m (classifier_dt, classifier_hgb, classifier_mnb, classifier_knn, \n\u001b[0;32m      3\u001b[0m                    classifier_gb, \n\u001b[0;32m      4\u001b[0m                    ensemble_classifier):\n\u001b[1;32m----> 5\u001b[0m     classifier\u001b[38;5;241m.\u001b[39mfit(\u001b[43mX_train\u001b[49m, y_train)\n",
      "\u001b[1;31mNameError\u001b[0m: name 'X_train' is not defined"
     ]
    }
   ],
   "source": [
    "# Train the classifiers\n",
    "for classifier in (classifier_dt, classifier_hgb, classifier_mnb, classifier_knn, \n",
    "                   classifier_gb, \n",
    "                   ensemble_classifier):\n",
    "    classifier.fit(X_train, y_train)"
   ]
  },
  {
   "cell_type": "code",
   "execution_count": 17,
   "id": "c208c10d-5c8a-48ba-8713-766593daede3",
   "metadata": {},
   "outputs": [
    {
     "ename": "NameError",
     "evalue": "name 'X_test' is not defined",
     "output_type": "error",
     "traceback": [
      "\u001b[1;31m---------------------------------------------------------------------------\u001b[0m",
      "\u001b[1;31mNameError\u001b[0m                                 Traceback (most recent call last)",
      "Cell \u001b[1;32mIn[17], line 1\u001b[0m\n\u001b[1;32m----> 1\u001b[0m y_pred_dt \u001b[38;5;241m=\u001b[39m classifier_dt\u001b[38;5;241m.\u001b[39mpredict(\u001b[43mX_test\u001b[49m)\n\u001b[0;32m      2\u001b[0m y_pred_hgb \u001b[38;5;241m=\u001b[39m classifier_hgb\u001b[38;5;241m.\u001b[39mpredict(X_test)\n\u001b[0;32m      3\u001b[0m y_pred_mnb \u001b[38;5;241m=\u001b[39m classifier_mnb\u001b[38;5;241m.\u001b[39mpredict(X_test)\n",
      "\u001b[1;31mNameError\u001b[0m: name 'X_test' is not defined"
     ]
    }
   ],
   "source": [
    "y_pred_dt = classifier_dt.predict(X_test)\n",
    "y_pred_hgb = classifier_hgb.predict(X_test)\n",
    "y_pred_mnb = classifier_mnb.predict(X_test)\n",
    "y_pred_knn = classifier_knn.predict(X_test)\n",
    "y_pred_gb = classifier_gb.predict(X_test)\n",
    "y_pred_ensemble = ensemble_classifier.predict(X_test)"
   ]
  },
  {
   "cell_type": "code",
   "execution_count": 18,
   "id": "dc06f61f-1bca-45b4-940d-8a17b308da1f",
   "metadata": {},
   "outputs": [
    {
     "ename": "NameError",
     "evalue": "name 'y_pred_dt' is not defined",
     "output_type": "error",
     "traceback": [
      "\u001b[1;31m---------------------------------------------------------------------------\u001b[0m",
      "\u001b[1;31mNameError\u001b[0m                                 Traceback (most recent call last)",
      "Cell \u001b[1;32mIn[18], line 5\u001b[0m\n\u001b[0;32m      1\u001b[0m \u001b[38;5;66;03m# Evaluate the individual classifiers\u001b[39;00m\n\u001b[0;32m      2\u001b[0m \u001b[38;5;28;01mfor\u001b[39;00m name, y_pred \u001b[38;5;129;01min\u001b[39;00m \u001b[38;5;28mzip\u001b[39m((\u001b[38;5;124m'\u001b[39m\u001b[38;5;124mDecision Tree\u001b[39m\u001b[38;5;124m'\u001b[39m, \u001b[38;5;124m'\u001b[39m\u001b[38;5;124mHist Gradient Boosting\u001b[39m\u001b[38;5;124m'\u001b[39m, \u001b[38;5;124m'\u001b[39m\u001b[38;5;124mMultinomial Naive Bayes\u001b[39m\u001b[38;5;124m'\u001b[39m, \u001b[38;5;124m'\u001b[39m\u001b[38;5;124mk-NN\u001b[39m\u001b[38;5;124m'\u001b[39m, \n\u001b[0;32m      3\u001b[0m                          \u001b[38;5;124m'\u001b[39m\u001b[38;5;124mGradient Boosting\u001b[39m\u001b[38;5;124m'\u001b[39m, \n\u001b[0;32m      4\u001b[0m                          \u001b[38;5;124m'\u001b[39m\u001b[38;5;124mEnsemble\u001b[39m\u001b[38;5;124m'\u001b[39m), \n\u001b[1;32m----> 5\u001b[0m                         (\u001b[43my_pred_dt\u001b[49m, y_pred_hgb, y_pred_mnb, y_pred_knn, \n\u001b[0;32m      6\u001b[0m                          y_pred_gb, \n\u001b[0;32m      7\u001b[0m                          y_pred_ensemble)):\n\u001b[0;32m      8\u001b[0m     accuracy \u001b[38;5;241m=\u001b[39m accuracy_score(y_test, y_pred)\n\u001b[0;32m      9\u001b[0m     \u001b[38;5;28mprint\u001b[39m(\u001b[38;5;124mf\u001b[39m\u001b[38;5;124m\"\u001b[39m\u001b[38;5;132;01m{\u001b[39;00mname\u001b[38;5;132;01m}\u001b[39;00m\u001b[38;5;124m Accuracy: \u001b[39m\u001b[38;5;132;01m{\u001b[39;00maccuracy\u001b[38;5;132;01m:\u001b[39;00m\u001b[38;5;124m.4f\u001b[39m\u001b[38;5;132;01m}\u001b[39;00m\u001b[38;5;124m\"\u001b[39m)\n",
      "\u001b[1;31mNameError\u001b[0m: name 'y_pred_dt' is not defined"
     ]
    }
   ],
   "source": [
    "# Evaluate the individual classifiers\n",
    "for name, y_pred in zip(('Decision Tree', 'Hist Gradient Boosting', 'Multinomial Naive Bayes', 'k-NN', \n",
    "                         'Gradient Boosting', \n",
    "                         'Ensemble'), \n",
    "                        (y_pred_dt, y_pred_hgb, y_pred_mnb, y_pred_knn, \n",
    "                         y_pred_gb, \n",
    "                         y_pred_ensemble)):\n",
    "    accuracy = accuracy_score(y_test, y_pred)\n",
    "    print(f\"{name} Accuracy: {accuracy:.4f}\")"
   ]
  },
  {
   "cell_type": "code",
   "execution_count": 19,
   "id": "45b627d2-3512-4131-a169-841e05fead95",
   "metadata": {},
   "outputs": [
    {
     "ename": "NameError",
     "evalue": "name 'y_test' is not defined",
     "output_type": "error",
     "traceback": [
      "\u001b[1;31m---------------------------------------------------------------------------\u001b[0m",
      "\u001b[1;31mNameError\u001b[0m                                 Traceback (most recent call last)",
      "Cell \u001b[1;32mIn[19], line 2\u001b[0m\n\u001b[0;32m      1\u001b[0m \u001b[38;5;66;03m# Evaluate the ensemble model\u001b[39;00m\n\u001b[1;32m----> 2\u001b[0m ensemble_accuracy \u001b[38;5;241m=\u001b[39m accuracy_score(\u001b[43my_test\u001b[49m, y_pred_ensemble)\n\u001b[0;32m      3\u001b[0m \u001b[38;5;28mprint\u001b[39m(\u001b[38;5;124mf\u001b[39m\u001b[38;5;124m\"\u001b[39m\u001b[38;5;130;01m\\n\u001b[39;00m\u001b[38;5;124mEnsemble Accuracy: \u001b[39m\u001b[38;5;132;01m{\u001b[39;00mensemble_accuracy\u001b[38;5;132;01m:\u001b[39;00m\u001b[38;5;124m.4f\u001b[39m\u001b[38;5;132;01m}\u001b[39;00m\u001b[38;5;124m\"\u001b[39m)\n",
      "\u001b[1;31mNameError\u001b[0m: name 'y_test' is not defined"
     ]
    }
   ],
   "source": [
    "# Evaluate the ensemble model\n",
    "ensemble_accuracy = accuracy_score(y_test, y_pred_ensemble)\n",
    "print(f\"\\nEnsemble Accuracy: {ensemble_accuracy:.4f}\")"
   ]
  },
  {
   "cell_type": "code",
   "execution_count": 20,
   "id": "b0660f0a-4f9f-4a2a-8b29-dcc0e923f487",
   "metadata": {},
   "outputs": [
    {
     "name": "stdout",
     "output_type": "stream",
     "text": [
      "\n",
      "Ensemble Classification Report:\n"
     ]
    },
    {
     "ename": "NameError",
     "evalue": "name 'y_test' is not defined",
     "output_type": "error",
     "traceback": [
      "\u001b[1;31m---------------------------------------------------------------------------\u001b[0m",
      "\u001b[1;31mNameError\u001b[0m                                 Traceback (most recent call last)",
      "Cell \u001b[1;32mIn[20], line 3\u001b[0m\n\u001b[0;32m      1\u001b[0m \u001b[38;5;66;03m# Display the classification report for the ensemble model\u001b[39;00m\n\u001b[0;32m      2\u001b[0m \u001b[38;5;28mprint\u001b[39m(\u001b[38;5;124m\"\u001b[39m\u001b[38;5;130;01m\\n\u001b[39;00m\u001b[38;5;124mEnsemble Classification Report:\u001b[39m\u001b[38;5;124m\"\u001b[39m)\n\u001b[1;32m----> 3\u001b[0m \u001b[38;5;28mprint\u001b[39m(classification_report(\u001b[43my_test\u001b[49m, y_pred_ensemble))\n",
      "\u001b[1;31mNameError\u001b[0m: name 'y_test' is not defined"
     ]
    }
   ],
   "source": [
    "# Display the classification report for the ensemble model\n",
    "print(\"\\nEnsemble Classification Report:\")\n",
    "print(classification_report(y_test, y_pred_ensemble))"
   ]
  },
  {
   "cell_type": "code",
   "execution_count": 21,
   "id": "be6c8f17-8d61-4bae-af10-ce8125494fe8",
   "metadata": {},
   "outputs": [
    {
     "name": "stdout",
     "output_type": "stream",
     "text": [
      "\n",
      "Ensemble Classification Report:\n"
     ]
    },
    {
     "ename": "NameError",
     "evalue": "name 'y_test' is not defined",
     "output_type": "error",
     "traceback": [
      "\u001b[1;31m---------------------------------------------------------------------------\u001b[0m",
      "\u001b[1;31mNameError\u001b[0m                                 Traceback (most recent call last)",
      "Cell \u001b[1;32mIn[21], line 3\u001b[0m\n\u001b[0;32m      1\u001b[0m \u001b[38;5;66;03m# Display the classification report for the ensemble model\u001b[39;00m\n\u001b[0;32m      2\u001b[0m \u001b[38;5;28mprint\u001b[39m(\u001b[38;5;124m\"\u001b[39m\u001b[38;5;130;01m\\n\u001b[39;00m\u001b[38;5;124mEnsemble Classification Report:\u001b[39m\u001b[38;5;124m\"\u001b[39m)\n\u001b[1;32m----> 3\u001b[0m report_dict \u001b[38;5;241m=\u001b[39m classification_report(\u001b[43my_test\u001b[49m, y_pred_ensemble, output_dict\u001b[38;5;241m=\u001b[39m\u001b[38;5;28;01mTrue\u001b[39;00m, labels\u001b[38;5;241m=\u001b[39mnp\u001b[38;5;241m.\u001b[39munique(y))\n\u001b[0;32m      4\u001b[0m \u001b[38;5;28mprint\u001b[39m(\u001b[38;5;124mf\u001b[39m\u001b[38;5;124m\"\u001b[39m\u001b[38;5;124mSensitivity: \u001b[39m\u001b[38;5;132;01m{\u001b[39;00mreport_dict[\u001b[38;5;124m'\u001b[39m\u001b[38;5;124m1\u001b[39m\u001b[38;5;124m'\u001b[39m][\u001b[38;5;124m'\u001b[39m\u001b[38;5;124mrecall\u001b[39m\u001b[38;5;124m'\u001b[39m]\u001b[38;5;132;01m:\u001b[39;00m\u001b[38;5;124m.4f\u001b[39m\u001b[38;5;132;01m}\u001b[39;00m\u001b[38;5;124m\"\u001b[39m)\n\u001b[0;32m      5\u001b[0m \u001b[38;5;28mprint\u001b[39m(\u001b[38;5;124mf\u001b[39m\u001b[38;5;124m\"\u001b[39m\u001b[38;5;124mSpecificity: \u001b[39m\u001b[38;5;132;01m{\u001b[39;00mreport_dict[\u001b[38;5;124m'\u001b[39m\u001b[38;5;124m0\u001b[39m\u001b[38;5;124m'\u001b[39m][\u001b[38;5;124m'\u001b[39m\u001b[38;5;124mrecall\u001b[39m\u001b[38;5;124m'\u001b[39m]\u001b[38;5;132;01m:\u001b[39;00m\u001b[38;5;124m.4f\u001b[39m\u001b[38;5;132;01m}\u001b[39;00m\u001b[38;5;124m\"\u001b[39m)\n",
      "\u001b[1;31mNameError\u001b[0m: name 'y_test' is not defined"
     ]
    }
   ],
   "source": [
    "# Display the classification report for the ensemble model\n",
    "print(\"\\nEnsemble Classification Report:\")\n",
    "report_dict = classification_report(y_test, y_pred_ensemble, output_dict=True, labels=np.unique(y))\n",
    "print(f\"Sensitivity: {report_dict['1']['recall']:.4f}\")\n",
    "print(f\"Specificity: {report_dict['0']['recall']:.4f}\")"
   ]
  },
  {
   "cell_type": "code",
   "execution_count": 22,
   "id": "0b6c65a7-efdc-4619-a227-53dadda94dea",
   "metadata": {},
   "outputs": [
    {
     "ename": "NameError",
     "evalue": "name 'y_test' is not defined",
     "output_type": "error",
     "traceback": [
      "\u001b[1;31m---------------------------------------------------------------------------\u001b[0m",
      "\u001b[1;31mNameError\u001b[0m                                 Traceback (most recent call last)",
      "Cell \u001b[1;32mIn[22], line 3\u001b[0m\n\u001b[0;32m      1\u001b[0m \u001b[38;5;28;01mfrom\u001b[39;00m \u001b[38;5;21;01msklearn\u001b[39;00m\u001b[38;5;21;01m.\u001b[39;00m\u001b[38;5;21;01mmetrics\u001b[39;00m \u001b[38;5;28;01mimport\u001b[39;00m confusion_matrix\n\u001b[1;32m----> 3\u001b[0m conf_matrix \u001b[38;5;241m=\u001b[39m confusion_matrix(\u001b[43my_test\u001b[49m, y_pred_ensemble)\n\u001b[0;32m      4\u001b[0m \u001b[38;5;28mprint\u001b[39m(conf_matrix)\n",
      "\u001b[1;31mNameError\u001b[0m: name 'y_test' is not defined"
     ]
    }
   ],
   "source": [
    "from sklearn.metrics import confusion_matrix\n",
    "\n",
    "conf_matrix = confusion_matrix(y_test, y_pred_ensemble)\n",
    "print(conf_matrix)"
   ]
  },
  {
   "cell_type": "code",
   "execution_count": 23,
   "id": "c6aa5149-8f08-4db4-8e68-854f5b6c947e",
   "metadata": {},
   "outputs": [
    {
     "ename": "NameError",
     "evalue": "name 'X' is not defined",
     "output_type": "error",
     "traceback": [
      "\u001b[1;31m---------------------------------------------------------------------------\u001b[0m",
      "\u001b[1;31mNameError\u001b[0m                                 Traceback (most recent call last)",
      "Cell \u001b[1;32mIn[23], line 7\u001b[0m\n\u001b[0;32m      4\u001b[0m excluded_column \u001b[38;5;241m=\u001b[39m \u001b[38;5;124m'\u001b[39m\u001b[38;5;124mProgression Free Status\u001b[39m\u001b[38;5;124m'\u001b[39m\n\u001b[0;32m      6\u001b[0m \u001b[38;5;66;03m# Remove the excluded column from the feature names\u001b[39;00m\n\u001b[1;32m----> 7\u001b[0m feature_names \u001b[38;5;241m=\u001b[39m \u001b[43mX\u001b[49m\u001b[38;5;241m.\u001b[39mcolumns\u001b[38;5;241m.\u001b[39mtolist()\n\u001b[0;32m      8\u001b[0m \u001b[38;5;28;01mif\u001b[39;00m excluded_column \u001b[38;5;129;01min\u001b[39;00m feature_names:\n\u001b[0;32m      9\u001b[0m     feature_names\u001b[38;5;241m.\u001b[39mremove(excluded_column)\n",
      "\u001b[1;31mNameError\u001b[0m: name 'X' is not defined"
     ]
    }
   ],
   "source": [
    "from sklearn.inspection import permutation_importance\n",
    "\n",
    "# Assuming 'Excluded_Column' is the column to exclude\n",
    "excluded_column = 'Progression Free Status'\n",
    "\n",
    "# Remove the excluded column from the feature names\n",
    "feature_names = X.columns.tolist()\n",
    "if excluded_column in feature_names:\n",
    "    feature_names.remove(excluded_column)\n",
    "\n",
    "# Assuming the classifier has already been trained and feature_importances_dt is available\n",
    "feature_importances_dt = classifier_dt.feature_importances_\n",
    "\n",
    "# Remove the excluded column from the feature importances\n",
    "excluded_idx = X.columns.get_loc(excluded_column)\n",
    "feature_importances_dt = np.delete(feature_importances_dt, excluded_idx)\n",
    "\n",
    "# Calculate permutation importances\n",
    "results = permutation_importance(classifier_hgb, X_test, y_test, n_repeats=10, random_state=42)\n",
    "\n",
    "# Remove the excluded column from permutation importances\n",
    "importances = np.delete(results.importances_mean, excluded_idx)\n",
    "sorted_indices = np.argsort(importances)\n",
    "\n",
    "# Visualize the Decision Tree feature importances\n",
    "plt.figure(figsize=(10, 8))\n",
    "plt.barh(range(len(sorted_indices)), feature_importances_dt[sorted_indices], color='skyblue')\n",
    "plt.yticks(range(len(sorted_indices)), [feature_names[i] for i in sorted_indices])\n",
    "plt.xlabel('Feature Importance')\n",
    "plt.title('Feature Importances from Decision Tree')\n",
    "plt.show()\n",
    "\n",
    "# Visualize the permutation importances\n",
    "plt.figure(figsize=(8, 6))\n",
    "plt.barh(range(len(sorted_indices)), importances[sorted_indices], color='dodgerblue')\n",
    "plt.yticks(range(len(sorted_indices)), [feature_names[i] for i in sorted_indices])\n",
    "plt.xlabel('Mean Decrease in Accuracy')\n",
    "plt.title('Feature Importance (Permutation) for HistGradientBoostingClassifier')\n",
    "plt.show()"
   ]
  },
  {
   "cell_type": "code",
   "execution_count": null,
   "id": "666a55c2-ce52-4b25-b42d-9cd5eb92d3c8",
   "metadata": {},
   "outputs": [],
   "source": [
    "from sklearn.inspection import permutation_importance\n",
    "\n",
    "# Select a model for which you want to check feature importance\n",
    "results = permutation_importance(classifier_dt, X_test, y_test, random_state=42)\n",
    "\n",
    "# Get importance scores\n",
    "importances = results.importances_mean\n",
    "\n",
    "# Print feature importances\n",
    "print(\"Permutation Importances:\")\n",
    "print(dict(zip(feature_names, importances)))\n",
    "sorted_indices = np.argsort(importances)\n",
    "\n",
    "# Plotting\n",
    "plt.figure(figsize=(10, 8))\n",
    "plt.barh(range(len(sorted_indices)), importances[sorted_indices], color='dodgerblue')\n",
    "plt.yticks(range(len(sorted_indices)), [feature_names[i] for i in sorted_indices])\n",
    "plt.xlabel('Decrease in Model Accuracy')\n",
    "plt.title('Permutation Importances for Decision Tree')\n",
    "plt.show()\n"
   ]
  },
  {
   "cell_type": "code",
   "execution_count": null,
   "id": "ef8f2469-2eec-4fdf-a38b-bcc27a1c3ace",
   "metadata": {},
   "outputs": [],
   "source": [
    "average_importances = (feature_importances_dt + importances) / 2\n",
    "\n",
    "# Print and visualize the average feature importances\n",
    "feature_importance_dict = dict(zip(feature_names, average_importances))\n",
    "print(\"Average Feature Importances from Tree-based Models in Ensemble:\")\n",
    "print(feature_importance_dict)\n",
    "\n",
    "# Visualization\n",
    "sorted_indices = np.argsort(average_importances)\n",
    "plt.figure(figsize=(10, 8))\n",
    "plt.barh(range(len(sorted_indices)), average_importances[sorted_indices], color='lightcoral')\n",
    "plt.yticks(range(len(sorted_indices)), [feature_names[i] for i in sorted_indices])\n",
    "plt.xlabel('Average Feature Importance')\n",
    "plt.title('Average Feature Importances from Tree-based Models in Ensemble')\n",
    "plt.show()\n"
   ]
  },
  {
   "cell_type": "code",
   "execution_count": null,
   "id": "183bab96-48f7-4f95-a3b5-907aa8bc5e07",
   "metadata": {},
   "outputs": [],
   "source": [
    "import shap\n",
    "\n",
    "# Create the SHAP Explainer\n",
    "explainer = shap.Explainer(classifier_hgb, X_train)\n",
    "\n",
    "# Calculate SHAP values with additivity check turned off\n",
    "shap_values = explainer(X_test, check_additivity=False)\n",
    "\n",
    "# Plot summary plot\n",
    "shap.summary_plot(shap_values, X_test, feature_names=feature_names)\n"
   ]
  },
  {
   "cell_type": "code",
   "execution_count": null,
   "id": "33c0baac-f337-456e-8e51-d1465145c50b",
   "metadata": {},
   "outputs": [],
   "source": [
    "from scipy.stats import chi2_contingency, ttest_ind\n",
    "\n",
    "data_copy = data.copy()\n",
    "\n",
    "# Drop rows with missing 'Disease Free Status' (if not already done)\n",
    "data_copy = data_copy.dropna(subset=['Disease Free Status'])\n",
    "\n",
    "# Separate the target variable\n",
    "target = 'Disease Free Status'\n",
    "X = data_copy.drop(['Patient ID', target], axis=1)\n",
    "y = data_copy[target]"
   ]
  },
  {
   "cell_type": "code",
   "execution_count": null,
   "id": "30cd01fd-6337-4afe-a8ad-37a55b1ed02a",
   "metadata": {},
   "outputs": [],
   "source": [
    "categorical_features = ['Cancer Type Detailed', 'Overall Survival Status', 'Disease-specific Survival status', \n",
    "                        'Progression Free Status', 'Ethnicity Category', 'Race Category', 'Subtype', \n",
    "                        'Tumor Type', 'Genetic Ancestry Label', 'ICD-10 Classification', 'In PanCan Pathway Analysis', \n",
    "                        'Informed consent verified', 'Neoadjuvant Therapy Type Administered Prior To Resection Text', \n",
    "                        'New Neoplasm Event Post Initial Therapy Indicator', 'Person Neoplasm Cancer Status', \n",
    "                        'Prior Diagnosis', 'Radiation Therapy_x', 'Sex', 'TCGA PanCanAtlas Cancer Type Acronym', \n",
    "                        'Sample Type', 'Oncotree Code', 'Somatic Status', 'Tissue Prospective Collection Indicator', \n",
    "                        'Tissue Retrospective Collection Indicator', 'Tissue Source Site Code', 'Cancer Type', \n",
    "                        'Chemotherapy', 'Hormone Therapy', 'Not Specified', 'Other', 'Radiation Therapy', \n",
    "                        'Targeted Molecular Therapy']\n",
    "\n",
    "chi2_results = []\n",
    "for col in categorical_features:\n",
    "    if col in data_copy.columns:\n",
    "        contingency_table = pd.crosstab(data_copy[col], data_copy[target])\n",
    "        chi2, p, dof, ex = chi2_contingency(contingency_table)\n",
    "        chi2_results.append((col, chi2, p))"
   ]
  },
  {
   "cell_type": "code",
   "execution_count": null,
   "id": "c15be83e-ac18-4e5d-b8aa-80336f072db5",
   "metadata": {},
   "outputs": [],
   "source": [
    "continuous_features = ['Mutation Count', 'Fraction Genome Altered', 'Diagnosis Age', 'MSI MANTIS Score', \n",
    "                       'MSIsensor Score', 'Birth from Initial Pathologic Diagnosis Date', 'Buffa Hypoxia Score', \n",
    "                       'Disease Free (Months)', 'Last Alive Less Initial Pathologic Diagnosis Date Calculated Day Value', \n",
    "                       'Last Communication Contact from Initial Pathologic Diagnosis Date', 'Months of disease-specific survival', \n",
    "                       'Number of Samples Per Patient', 'Overall Survival (Months)', 'Patient Weight', 'Progress Free Survival (Months)', \n",
    "                       'Ragnum Hypoxia Score', 'Winter Hypoxia Score', 'Aneuploidy Score', 'TMB (nonsynonymous)', \n",
    "                       'Neoplasm Histologic Grade']\n",
    "\n",
    "ttest_results = []\n",
    "for col in continuous_features:\n",
    "    if col in data_copy.columns:\n",
    "        group0 = data_copy[data_copy[target] == 0][col].dropna()\n",
    "        group1 = data_copy[data_copy[target] == 1][col].dropna()\n",
    "        t_stat, p_val = ttest_ind(group0, group1)\n",
    "        ttest_results.append((col, t_stat, p_val))"
   ]
  },
  {
   "cell_type": "code",
   "execution_count": null,
   "id": "c3e2ea24-c28e-4c8a-9376-c4220f4d0315",
   "metadata": {},
   "outputs": [],
   "source": [
    "chi2_df = pd.DataFrame(chi2_results, columns=['Feature', 'Chi2', 'p-value']).sort_values(by='p-value')\n",
    "ttest_df = pd.DataFrame(ttest_results, columns=['Feature', 't-statistic', 'p-value']).sort_values(by='p-value')\n",
    "\n",
    "# Visualize Chi-square test results\n",
    "plt.figure(figsize=(12, 8))\n",
    "plt.barh(chi2_df['Feature'], chi2_df['p-value'], color='skyblue')\n",
    "plt.xlabel('p-value')\n",
    "plt.ylabel('Feature')\n",
    "plt.title('Chi-square Test p-values for Categorical Features')\n",
    "plt.gca().invert_yaxis()\n",
    "plt.show()"
   ]
  },
  {
   "cell_type": "code",
   "execution_count": null,
   "id": "55f283f5-a429-4ef0-ab68-64ff2501705e",
   "metadata": {},
   "outputs": [],
   "source": [
    "import xgboost as xgb\n",
    "from imblearn.over_sampling import SMOTE\n",
    "\n",
    "data_shuffled = data_xgboost.sample(frac=1, random_state=42)\n",
    "\n",
    "# Features (X) are all columns except 'Patient ID' and 'Disease Free Status'\n",
    "X = data_shuffled.drop(['Patient ID', 'Disease Free Status'], axis=1)\n",
    "\n",
    "# Target variable (y) is 'Disease Free Status'\n",
    "y = data_shuffled['Disease Free Status']\n",
    "\n",
    "# Split the data into training and testing sets\n",
    "X_train, X_test, y_train, y_test = train_test_split(X, y, test_size=0.2, random_state=42)"
   ]
  },
  {
   "cell_type": "code",
   "execution_count": null,
   "id": "da1cd16f-c08a-4ba8-a215-2fbf7c4eb162",
   "metadata": {},
   "outputs": [],
   "source": [
    "xgb_clf = xgb.XGBClassifier(use_label_encoder=False, eval_metric='logloss')\n",
    "\n",
    "xgb_clf.fit(X_train, y_train)\n"
   ]
  },
  {
   "cell_type": "code",
   "execution_count": null,
   "id": "47d16c01-b5ae-4123-b463-798415ce68e1",
   "metadata": {},
   "outputs": [],
   "source": [
    "y_pred = xgb_clf.predict(X_test)\n",
    "\n",
    "accuracy = accuracy_score(y_test, y_pred)\n",
    "print(f\"Accuracy: {accuracy:.2f}\")\n",
    "\n",
    "print(classification_report(y_test, y_pred))\n"
   ]
  },
  {
   "cell_type": "code",
   "execution_count": null,
   "id": "ae5f15f7-c4d0-4f24-a343-7c1ff0cdb1e4",
   "metadata": {},
   "outputs": [],
   "source": [
    "data_copy = data.copy()\n",
    "\n",
    "# Drop rows with missing 'Disease Free Status'\n",
    "data_copy = data_copy.dropna(subset=['Disease Free Status'])\n",
    "\n",
    "# Fill missing values (use appropriate methods as discussed previously)\n",
    "data_copy.fillna(method='ffill', inplace=True)\n",
    "\n",
    "# Separate the target variable\n",
    "target = 'Disease Free Status'\n",
    "X = data_copy.drop(['Patient ID', target], axis=1A)\n",
    "y = data_copy[target]\n",
    "\n",
    "# Split the data into training and testing sets\n",
    "X_train, X_test, y_train, y_test = train_test_split(X, y, test_size=0.2, random_state=42)\n",
    "\n",
    "# Initialize the XGBoost classifier\n",
    "xgb_clf = xgb.XGBClassifier(use_label_encoder=False, eval_metric='logloss', random_state=42)\n",
    "\n",
    "# Train the model\n",
    "xgb_clf.fit(X_train, y_train)\n",
    "\n",
    "excluded_column = 'Excluded_Column'\n",
    "columns = X.columns.tolist()\n",
    "columns.remove(excluded_column)\n",
    "\n",
    "# Create a DataFrame for visualization\n",
    "feature_importance_df = pd.DataFrame({\n",
    "    'Feature': columns,\n",
    "    'Importance': importance\n",
    "})\n",
    "# Sort the DataFrame by importance\n",
    "feature_importance_df = feature_importance_df.sort_values(by='Importance', ascending=False)\n",
    "\n",
    "# Plot the feature importance\n",
    "plt.figure(figsize=(12, 8))\n",
    "plt.barh(feature_importance_df['Feature'], feature_importance_df['Importance'])\n",
    "plt.xlabel('Importance')\n",
    "plt.ylabel('Feature')\n",
    "plt.title('Feature Importance for Disease Free Status Classification')\n",
    "plt.gca().invert_yaxis()\n",
    "plt.show()\n"
   ]
  },
  {
   "cell_type": "code",
   "execution_count": null,
   "id": "3ff76cc0-8206-447a-825d-0a7ea694f63b",
   "metadata": {},
   "outputs": [],
   "source": []
  },
  {
   "cell_type": "code",
   "execution_count": null,
   "id": "f01693c1-d3e2-4d71-8813-ff99ff4d814b",
   "metadata": {},
   "outputs": [],
   "source": []
  }
 ],
 "metadata": {
  "kernelspec": {
   "display_name": "Python 3 (ipykernel)",
   "language": "python",
   "name": "python3"
  },
  "language_info": {
   "codemirror_mode": {
    "name": "ipython",
    "version": 3
   },
   "file_extension": ".py",
   "mimetype": "text/x-python",
   "name": "python",
   "nbconvert_exporter": "python",
   "pygments_lexer": "ipython3",
   "version": "3.11.5"
  }
 },
 "nbformat": 4,
 "nbformat_minor": 5
}
